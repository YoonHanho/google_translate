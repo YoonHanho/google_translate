{
 "cells": [
  {
   "cell_type": "markdown",
   "metadata": {},
   "source": [
    "### 구글 번역 라이브러리"
   ]
  },
  {
   "cell_type": "markdown",
   "metadata": {},
   "source": [
    "참조사이트  \n",
    "https://pypi.org/project/googletrans/  \n",
    "https://py-googletrans.readthedocs.io/en/latest/  \n",
    "https://wikidocs.net/26462"
   ]
  },
  {
   "cell_type": "markdown",
   "metadata": {},
   "source": [
    "라이브러리 설치"
   ]
  },
  {
   "cell_type": "code",
   "execution_count": null,
   "metadata": {},
   "outputs": [],
   "source": [
    "!pip install googletrans"
   ]
  },
  {
   "cell_type": "markdown",
   "metadata": {},
   "source": [
    "지원되는 언어 종류 : 106개"
   ]
  },
  {
   "cell_type": "code",
   "execution_count": 42,
   "metadata": {},
   "outputs": [
    {
     "name": "stdout",
     "output_type": "stream",
     "text": [
      "{'af': 'afrikaans', 'sq': 'albanian', 'am': 'amharic', 'ar': 'arabic', 'hy': 'armenian', 'az': 'azerbaijani', 'eu': 'basque', 'be': 'belarusian', 'bn': 'bengali', 'bs': 'bosnian', 'bg': 'bulgarian', 'ca': 'catalan', 'ceb': 'cebuano', 'ny': 'chichewa', 'zh-cn': 'chinese (simplified)', 'zh-tw': 'chinese (traditional)', 'co': 'corsican', 'hr': 'croatian', 'cs': 'czech', 'da': 'danish', 'nl': 'dutch', 'en': 'english', 'eo': 'esperanto', 'et': 'estonian', 'tl': 'filipino', 'fi': 'finnish', 'fr': 'french', 'fy': 'frisian', 'gl': 'galician', 'ka': 'georgian', 'de': 'german', 'el': 'greek', 'gu': 'gujarati', 'ht': 'haitian creole', 'ha': 'hausa', 'haw': 'hawaiian', 'iw': 'hebrew', 'hi': 'hindi', 'hmn': 'hmong', 'hu': 'hungarian', 'is': 'icelandic', 'ig': 'igbo', 'id': 'indonesian', 'ga': 'irish', 'it': 'italian', 'ja': 'japanese', 'jw': 'javanese', 'kn': 'kannada', 'kk': 'kazakh', 'km': 'khmer', 'ko': 'korean', 'ku': 'kurdish (kurmanji)', 'ky': 'kyrgyz', 'lo': 'lao', 'la': 'latin', 'lv': 'latvian', 'lt': 'lithuanian', 'lb': 'luxembourgish', 'mk': 'macedonian', 'mg': 'malagasy', 'ms': 'malay', 'ml': 'malayalam', 'mt': 'maltese', 'mi': 'maori', 'mr': 'marathi', 'mn': 'mongolian', 'my': 'myanmar (burmese)', 'ne': 'nepali', 'no': 'norwegian', 'ps': 'pashto', 'fa': 'persian', 'pl': 'polish', 'pt': 'portuguese', 'pa': 'punjabi', 'ro': 'romanian', 'ru': 'russian', 'sm': 'samoan', 'gd': 'scots gaelic', 'sr': 'serbian', 'st': 'sesotho', 'sn': 'shona', 'sd': 'sindhi', 'si': 'sinhala', 'sk': 'slovak', 'sl': 'slovenian', 'so': 'somali', 'es': 'spanish', 'su': 'sundanese', 'sw': 'swahili', 'sv': 'swedish', 'tg': 'tajik', 'ta': 'tamil', 'te': 'telugu', 'th': 'thai', 'tr': 'turkish', 'uk': 'ukrainian', 'ur': 'urdu', 'uz': 'uzbek', 'vi': 'vietnamese', 'cy': 'welsh', 'xh': 'xhosa', 'yi': 'yiddish', 'yo': 'yoruba', 'zu': 'zulu', 'fil': 'Filipino', 'he': 'Hebrew'}\n"
     ]
    }
   ],
   "source": [
    "import googletrans\n",
    "\n",
    "print(googletrans.LANGUAGES)"
   ]
  },
  {
   "cell_type": "markdown",
   "metadata": {},
   "source": [
    "번역해보기"
   ]
  },
  {
   "cell_type": "code",
   "execution_count": 43,
   "metadata": {},
   "outputs": [
    {
     "name": "stdout",
     "output_type": "stream",
     "text": [
      "Translated(src=ko, dest=en, text=Hi, pronunciation=None, extra_data=\"{'translat...\")\n"
     ]
    }
   ],
   "source": [
    "from googletrans import Translator\n",
    "\n",
    "translator = Translator()\n",
    "print(translator.translate('안녕하세요'))  "
   ]
  },
  {
   "cell_type": "code",
   "execution_count": 7,
   "metadata": {},
   "outputs": [
    {
     "name": "stdout",
     "output_type": "stream",
     "text": [
      "Hi\n"
     ]
    }
   ],
   "source": [
    "print(translator.translate('안녕하세요').text) # 자동으로 언어 감지"
   ]
  },
  {
   "cell_type": "code",
   "execution_count": 12,
   "metadata": {},
   "outputs": [
    {
     "name": "stdout",
     "output_type": "stream",
     "text": [
      "Translated(src=ko, dest=ja, text=こんにちは, pronunciation=Kon'nichiwa, extra_data=\"{'translat...\")\n"
     ]
    }
   ],
   "source": [
    "print(translator.translate('안녕하세요', src='ko', dest='ja'))  #  번역할 언어 지정. en > 영어, ja > 일본어, es > 스페인어"
   ]
  },
  {
   "cell_type": "markdown",
   "metadata": {},
   "source": [
    "언어 감지"
   ]
  },
  {
   "cell_type": "code",
   "execution_count": 9,
   "metadata": {},
   "outputs": [
    {
     "name": "stdout",
     "output_type": "stream",
     "text": [
      "Detected(lang=ko, confidence=1)\n",
      "Detected(lang=en, confidence=0.88929719)\n",
      "Detected(lang=la, confidence=0.66786897)\n"
     ]
    }
   ],
   "source": [
    "print(translator.detect('이 언어는 한국어입니다.'))\n",
    "print(translator.detect('Hello world!'))\n",
    "print(translator.detect('veritas lux mea'))"
   ]
  },
  {
   "cell_type": "markdown",
   "metadata": {},
   "source": [
    "벌크 번역"
   ]
  },
  {
   "cell_type": "code",
   "execution_count": 51,
   "metadata": {},
   "outputs": [
    {
     "name": "stdout",
     "output_type": "stream",
     "text": [
      "The quick brown fox  ->  빠른 갈색 여우\n",
      "jumps over  ->  점프하다\n",
      "the lazy dog  ->  게으른 개\n"
     ]
    }
   ],
   "source": [
    "translations = translator.translate(['The quick brown fox', 'jumps over', 'the lazy dog'], dest='ko')\n",
    "\n",
    "for translation in translations:\n",
    "    print(translation.origin, ' -> ', translation.text)"
   ]
  },
  {
   "cell_type": "markdown",
   "metadata": {},
   "source": [
    "---\n",
    "파파고와 비교해보자"
   ]
  },
  {
   "cell_type": "code",
   "execution_count": 22,
   "metadata": {},
   "outputs": [],
   "source": [
    "\"\"\" 파파고는 별도로 함수를 짜야 함 \"\"\"\n",
    "import os\n",
    "import sys\n",
    "import urllib.request\n",
    "import json\n",
    "\n",
    "import naver_info as ninfo  # 네이버 Client ID, Secret key 정보\n",
    "\n",
    "def translate_papago(string, target, change):\n",
    "    \"\"\"\n",
    "    작성자 : 2018.12.12 by 이규남(오리지날 저자), 윤한호(편집)\n",
    "    개요 : 네이버 파파고 API를 이용하여 외국어와 한국어 간의 번역 제공\n",
    "    입력변수 :\n",
    "     - string : 원문\n",
    "     - target : 원문의 국가 언어 코드\n",
    "     - change : 번역하고자 하는 국가 언어 코드\n",
    "    예시 : \n",
    "    string = \"Asian stocks traded mixed Tuesday after further discussions on trade between Washington and Beijing, and a rebound in U.S. shares overnight.\" \n",
    "     _ = translate_parser(string, 'en', 'ko')\n",
    "     >> 미국-중국 간 교역과 미국 증시의 반등에 대한 추가 논의가 있은 후 화요일 아시아 증시는 엇갈렸다.\n",
    "    반환값 : 번역 요청한 해당 국가의 텍스트\n",
    "    네이버 개발자 가이드 : https://developers.naver.com/docs/nmt/reference/ \n",
    "    \"\"\"\n",
    "    encText = urllib.parse.quote(string)\n",
    "    \n",
    "    data = \"source=\" + target + \"&target=\" + change + \"&text=\" + encText\n",
    "    url = \"https://naveropenapi.apigw.ntruss.com/nmt/v1/translation\"\n",
    "    \n",
    "    request = urllib.request.Request(url)\n",
    "    request.add_header(\"X-NCP-APIGW-API-KEY-ID\", ninfo.trans_client_id)\n",
    "    request.add_header(\"X-NCP-APIGW-API-KEY\", ninfo.trans_client_secret)\n",
    "    response = urllib.request.urlopen(request, data=data.encode(\"utf-8\"))\n",
    "    rescode = response.getcode()\n",
    "\n",
    "    if(rescode==200):\n",
    "        response_body = response.read()\n",
    "        json_obj = json.loads(response_body)\n",
    "        result_text = json_obj['message']['result']['translatedText']\n",
    "        print(\"원문 : \", string)\n",
    "        print(\"번역 : \\n\", result_text)\n",
    "        # print(\"================> 번역 완료\")\n",
    "        # return result_text\n",
    "    else:\n",
    "        print(\"Error Code:\" + rescode)"
   ]
  },
  {
   "cell_type": "markdown",
   "metadata": {},
   "source": [
    "사례 #1 : 로보어드바이저 관련 기사(월스트리트저널, 일부)"
   ]
  },
  {
   "cell_type": "code",
   "execution_count": 23,
   "metadata": {},
   "outputs": [],
   "source": [
    "script = \"\"\"\n",
    "Banks Are Paying Peanuts on Deposits. \n",
    "Robo Advisors Are Offering Higher Rates.\n",
    "\n",
    "By Lisa Beilfuss\n",
    "March 1, 2019 10:00 a.m. ET\n",
    "Automated financial advisers are expanding into the cash-management market with high rates, the latest move by these so-called robo advisers to capture clients from traditional banks and brokerages.\n",
    "Wealthfront’s new cash-management account, essentially a brokerage account meant for cash, is offering a 2.24% annual interest rate, and Betterment LLC’s account, launched in August, offers 2.23% after fees. That compares with a national average of 0.10% U.S. banks are paying savers, according to Bankrate.com.\n",
    "\"\"\""
   ]
  },
  {
   "cell_type": "code",
   "execution_count": 24,
   "metadata": {},
   "outputs": [
    {
     "name": "stdout",
     "output_type": "stream",
     "text": [
      "원문 :  \n",
      "Banks Are Paying Peanuts on Deposits. \n",
      "Robo Advisors Are Offering Higher Rates.\n",
      "\n",
      "By Lisa Beilfuss\n",
      "March 1, 2019 10:00 a.m. ET\n",
      "Automated financial advisers are expanding into the cash-management market with high rates, the latest move by these so-called robo advisers to capture clients from traditional banks and brokerages.\n",
      "Wealthfront’s new cash-management account, essentially a brokerage account meant for cash, is offering a 2.24% annual interest rate, and Betterment LLC’s account, launched in August, offers 2.23% after fees. That compares with a national average of 0.10% U.S. banks are paying savers, according to Bankrate.com.\n",
      "\n",
      "번역 : \n",
      " 은행들은 땅콩을 예금에 지불하고 있다. \n",
      "로보 어드바이저들이 더 높은 요금을 제공하고 있다.\n",
      "\n",
      "바이 리사 빌푸스\n",
      "2019년 3월 1일 오전 10시 ET\n",
      "자동 금융 고문들은 높은 금리로 현금 관리 시장으로 확장되고 있는데, 이것은 전통적인 은행과 증권회사로부터 고객을 잡기 위한 소위 로보 고문들에 의한 최근의 움직임이다.\n",
      "기본적으로 현금을 목적으로 하는 중개 계좌인 부프런트의 새로운 현금 관리 계정은 연 2.24%의 이율을 제공하고 있으며, 8월에 출범한 Betterment LLC의 계정은 수수료 후 2.23%를 제공한다.  Bankrate.com.에 따르면 이는 미국 은행들이 저축을 하고 있는 평균 0.10%와 비교된다.\n",
      "None\n"
     ]
    }
   ],
   "source": [
    "print(translate_papago(script, 'en', 'ko')) # 파파고"
   ]
  },
  {
   "cell_type": "code",
   "execution_count": 20,
   "metadata": {},
   "outputs": [
    {
     "name": "stdout",
     "output_type": "stream",
     "text": [
      "은행들은 예금에 땅콩을 지불하고 있습니다.\n",
      "로보 어드바이저는 더 높은 요금을 제공합니다.\n",
      "\n",
      "Lisa Beilfuss 저\n",
      "2019 년 3 월 1 일 10:00 a.m. ET\n",
      "자동화 된 재무 고문은 고액 금리로 현금 관리 시장으로 확대되고 있으며, 이른바 로보 어드바이저가 전통적인 은행 및 중개인으로부터 고객을 확보하기 위해 최근에 조치를 취했습니다.\n",
      "웰스 프론트의 새로운 현금 관리 계좌 인 본질적으로 현금을 위탁하는 중개 계좌는 연간 이자율 2.24 %를 제공하고 있으며, 8 월에 시작된 Betterment LLC의 계좌는 수수료를 받고 2.23 %를 제공합니다. Bankrate.com에 따르면 미국 은행들이 전국 평균 0.10 %를 기록한 것으로 나타났다.\n"
     ]
    }
   ],
   "source": [
    "print(translator.translate(script, src='en', dest='ko').text) # 구글"
   ]
  },
  {
   "cell_type": "markdown",
   "metadata": {},
   "source": [
    "사례 #2 : 테슬라 기업 뉴스(블룸버그, 일부)"
   ]
  },
  {
   "cell_type": "code",
   "execution_count": 25,
   "metadata": {},
   "outputs": [],
   "source": [
    "script = \"\"\"\n",
    "Tesla Inc. is updating its charging network to halve typical wait times as the Model 3 fleet grows larger and rivals like Porsche ready their own powerful infrastructure.\n",
    "\n",
    "After doubling power at Tesla’s stations and vehicles preheating batteries ahead of arriving at a plug, charging times will drop to around 15 minutes, the electric-car leader said on its blog. The rollout of the V3 Supercharging network will take until the end of the year and allow twice as many cars each day to charge.\n",
    "\n",
    "The first V3 Supercharger site that’s not a test version will break ground next month. After rolling out in North America, the technology will reach Europe and the Asia-Pacific region in the fourth quarter, the company said.\n",
    "\"\"\""
   ]
  },
  {
   "cell_type": "code",
   "execution_count": 26,
   "metadata": {},
   "outputs": [
    {
     "name": "stdout",
     "output_type": "stream",
     "text": [
      "원문 :  \n",
      "Tesla Inc. is updating its charging network to halve typical wait times as the Model 3 fleet grows larger and rivals like Porsche ready their own powerful infrastructure.\n",
      "\n",
      "After doubling power at Tesla’s stations and vehicles preheating batteries ahead of arriving at a plug, charging times will drop to around 15 minutes, the electric-car leader said on its blog. The rollout of the V3 Supercharging network will take until the end of the year and allow twice as many cars each day to charge.\n",
      "\n",
      "The first V3 Supercharger site that’s not a test version will break ground next month. After rolling out in North America, the technology will reach Europe and the Asia-Pacific region in the fourth quarter, the company said.\n",
      "\n",
      "번역 : \n",
      " 테슬라는 모델3 함대가 커지고 포르쉐와 같은 경쟁상대가 자체적인 강력한 인프라를 준비함에 따라 일반적인 대기시간을 절반으로 줄이기 위해 충전 네트워크를 업데이트하고 있다.\n",
      "\n",
      "\"플러그에 도착하기 전에 테슬라의 스테이션과 전지를 예열하는 차량의 전원을 두 배로 늘린 후 충전 시간은 약 15분으로 줄어들 것\"이라고 전기자동차의 리더는 블로그에 말했다. V3 슈퍼차지 네트워크의 롤아웃은 연말까지 소요되며, 매일 2배의 차량 충전을 허용한다.\n",
      "\n",
      "시험판이 아닌 V3 슈퍼차저 사이트는 다음 달 착공된다. 이 기술은 북미에서 출범한 뒤 4분기에 유럽과 아시아태평양 지역에 진출할 것이라고 회사측은 말했다.\n",
      "None\n"
     ]
    }
   ],
   "source": [
    "print(translate_papago(script, 'en', 'ko')) # 파파고"
   ]
  },
  {
   "cell_type": "code",
   "execution_count": 27,
   "metadata": {},
   "outputs": [
    {
     "name": "stdout",
     "output_type": "stream",
     "text": [
      "Tesla Inc.는 모델 3 차량이 커지면서 포르쉐 (Porsche)와 같은 경쟁 업체가 강력한 인프라를 준비 할 때 전형적인 대기 시간을 절반으로 줄이기 위해 충전 네트워크를 업데이트하고 있습니다.\n",
      "\n",
      "테슬라의 역과 차량에 플러그를 꽂기 전에 배터리를 예열하는 차량의 전력을 두 배로 늘린 후 충전 시간은 약 15 분으로 떨어질 것이라고 전기 자동차 업계 관계자는 블로그에서 밝혔다. V3 수퍼 차저 네트워크의 출시는 연말까지 소요되며 매일 두 배나 많은 차량을 충전 할 수 있습니다.\n",
      "\n",
      "테스트 버전이 아닌 최초의 V3 과급기 사이트는 다음 달에 무너질 것이다. 북미 지역에 진출한 후 4/4 분기에이 기술은 유럽 및 아시아 태평양 지역으로 확대 될 예정이다.\n"
     ]
    }
   ],
   "source": [
    "print(translator.translate(script, src='en', dest='ko').text) # 구글"
   ]
  },
  {
   "cell_type": "markdown",
   "metadata": {},
   "source": [
    "사례 #3 : 손흥민 안내 자료(프리미어리그 토트넘 홈페이지) "
   ]
  },
  {
   "cell_type": "code",
   "execution_count": 29,
   "metadata": {},
   "outputs": [],
   "source": [
    "script = \"\"\"\n",
    "South Korean international star Heung-Min Son has endeared himself to the Spurs faithful with some fantastic goalscoring displays since signing from Bayer Leverkusen in August, 2015.\n",
    "His winning goal in a 1-0 home victory against Crystal Palace in November, 2017, saw him become the highest-scoring Asian player in Premier League history, taking his overall tally in the division to 20 at the time. He scored some decisive goals during the following few weeks, including a run of four in as many games in December, 2017, picked up the Asian Football Confederation International Player of the Year award for a second time - having first won it in 2015 - and was named Top South Korean Male Footballer of 2017 at the Korea Football Association awards. In April, 2018, he was named Best Footballer in Asia for the third time, having previously won the award in 2014 and 2015. Featuring in all but one of our 38 Premier League games in 2017-18, he finished that campaign with 18 goals in 53 appearances - more games than any other player in the squad.\n",
    "Born in Chuncheon, Son originally moved to Germany as a teenager and came through the ranks at Hamburger SV, scoring on his Bundesliga debut in October, 2010, against 1. FC Köln. A consistent goalscorer throughout his time in Germany, he went on to make 78 appearances and score 20 times for Hamburg before joining Bayer Leverkusen in June, 2013. He helped them to Champions League qualification in each of his two seasons there and made a total of 87 appearances, scoring 29 times at BayArena.\n",
    "\"\"\""
   ]
  },
  {
   "cell_type": "code",
   "execution_count": 30,
   "metadata": {},
   "outputs": [
    {
     "name": "stdout",
     "output_type": "stream",
     "text": [
      "원문 :  \n",
      "South Korean international star Heung-Min Son has endeared himself to the Spurs faithful with some fantastic goalscoring displays since signing from Bayer Leverkusen in August, 2015.\n",
      "His winning goal in a 1-0 home victory against Crystal Palace in November, 2017, saw him become the highest-scoring Asian player in Premier League history, taking his overall tally in the division to 20 at the time. He scored some decisive goals during the following few weeks, including a run of four in as many games in December, 2017, picked up the Asian Football Confederation International Player of the Year award for a second time - having first won it in 2015 - and was named Top South Korean Male Footballer of 2017 at the Korea Football Association awards. In April, 2018, he was named Best Footballer in Asia for the third time, having previously won the award in 2014 and 2015. Featuring in all but one of our 38 Premier League games in 2017-18, he finished that campaign with 18 goals in 53 appearances - more games than any other player in the squad.\n",
      "Born in Chuncheon, Son originally moved to Germany as a teenager and came through the ranks at Hamburger SV, scoring on his Bundesliga debut in October, 2010, against 1. FC Köln. A consistent goalscorer throughout his time in Germany, he went on to make 78 appearances and score 20 times for Hamburg before joining Bayer Leverkusen in June, 2013. He helped them to Champions League qualification in each of his two seasons there and made a total of 87 appearances, scoring 29 times at BayArena.\n",
      "\n",
      "번역 : \n",
      " 한국의 세계적인 스타인 흥민 손흥민은 2015년 8월 바이엘 레버쿠젠에서 계약한 이후 환상적인 골 결정전에 충실한 스퍼스에게 의지해 왔다.\n",
      "2017년 11월 크리스탈 팰리스와의 홈경기에서 1-0으로 이긴 그의 결승골은 당시 20구단 전체 기록을 세우며 프리미어리그 사상 아시아 최고 득점자가 됐다. 그는 그 후 몇 주 동안, 2017년 12월에 열린 많은 경기에서 4골을 넣는 등, 몇 주 동안 결정적인 골을 기록했는데, 2015년에 처음으로 아시아축구연맹 올해의 선수상을 받은 것이다. 그리고 대한축구협회 시상식에서 2017년 최고의 한국 남자 축구 선수로 선정되었다. 2018년 4월에는 2014년과 2015년 이 상을 수상하며 세 번째로 아시아 최우수 축구 선수로 선정되기도 했다. 2017-18년 프리미어 리그 38경기 중 하나를 제외한 나머지 경기에 출전한 그는 53경기에서 18골을 넣으며 이 캠페인을 마무리했다.\n",
      "춘천에서 태어난 손흥민은 원래 10대 때 독일로 건너가 2010년 10월 분데스리가 데뷔전에서 FC  K른을 상대로 득점하며 햄버거 SV의 대열에 올랐다. 독일 시절 내내 한결같은 골잡이였던 그는 함부르크에서 78번 출전하고 20번 득점을 한 뒤 2013년 6월 바이엘 레버쿠젠에 입단했다. 그는 그곳에서 두 시즌 각각 챔피언스 리그 예선전에 그들을 도왔고 총 87번의 출전으로 BayArena에서 29번이나 골을 넣었다.\n",
      "None\n"
     ]
    }
   ],
   "source": [
    "print(translate_papago(script, 'en', 'ko')) # 파파고"
   ]
  },
  {
   "cell_type": "code",
   "execution_count": 36,
   "metadata": {},
   "outputs": [
    {
     "name": "stdout",
     "output_type": "stream",
     "text": [
      "2015 년 8 월 바이엘 레버쿠젠 (Bayer Leverkusen)과 계약 한 이후 한국의 국제적인 스타 인 흥민 (Heung-Min Son)은 스퍼스 (Spurs) 충실한 선수들에게 환상적인 목표를 제시했다.\n",
      "2017 년 11 월 크리스털 팰리스와의 홈 경기에서 1-0 승리를 거두며 우승을 차지한 그는 그의 프리미어 리그 역사상 가장 높은 점수를 얻은 아시아 선수로 기록되었다. 그는 다음 몇 주 동안 몇 가지 결정적인 목표를 세웠는데, 2017 년 12 월에 많은 게임에서 4 차례 나 뛰었고 2015 년 아시아 축구 연맹 (International Football Confederation International) 올해의 선수상을 두 번째 수상했다. 한국 축구 협회 (Korea Football Association) 시상식에서 2017 년 Top South Korea Male Footballer로 선정되었습니다. 2018 년 4 월, 그는 2014 년과 2015 년에 이전에 우승 한 아시아에서 3 번째로 최고의 축구 선수로 선정되었습니다. 2017-18 년에 펼쳐지는 38 개의 프리미어 리그 경기 중 하나를 제외하고는 모두 18 개의 목표로 캠페인을 마쳤습니다. 53 경기 출전 - 다른 어떤 선수보다도 더 많은 경기를 펼친다.\n",
      "춘천에서 태어난 아들은 원래 10 대 때 독일로 건너가 2010 년 10 월에 FC 쾰른과의 분데스리가 데뷔를 기록한 함부르크 SV에서 순위에 올랐습니다. 독일에서의 일관된 골로어 인 그는 함부르크에서 78 경기에 출전 해 20 경기에 출전 해 2013 년 6 월 바이엘 레버쿠젠에 합류했습니다. 그는 두 시즌 동안 챔피언스 리그 진출에 도움을주었습니다. 87 회 출장, BayArena에서 29 득점.\n"
     ]
    }
   ],
   "source": [
    "print(translator.translate(script, src='en', dest='ko').text) # 구글"
   ]
  },
  {
   "cell_type": "markdown",
   "metadata": {},
   "source": [
    "---\n",
    "\n",
    "번역 소요시간 측정"
   ]
  },
  {
   "cell_type": "code",
   "execution_count": null,
   "metadata": {},
   "outputs": [],
   "source": [
    "%timeit translate_papago(script, 'en', 'ko') # 파파고"
   ]
  },
  {
   "cell_type": "code",
   "execution_count": null,
   "metadata": {},
   "outputs": [],
   "source": [
    "%timeit translator.translate(script, src='en', dest='ko').text  # 구글"
   ]
  },
  {
   "cell_type": "markdown",
   "metadata": {},
   "source": [
    "---\n",
    "구글이 더 빠르다. \n",
    "\n",
    "- 파파고 : 140 ms ± 10.1 ms per loop (mean ± std. dev. of 7 runs, 10 loops each)  \n",
    "- 구글   : 110 ms ± 991 µs per loop (mean ± std. dev. of 7 runs, 10 loops each)\n",
    "\n",
    "---"
   ]
  },
  {
   "cell_type": "markdown",
   "metadata": {},
   "source": [
    "추가 분석 - 라이브러리 공식 사이트의 설명을 해석해보자"
   ]
  },
  {
   "cell_type": "code",
   "execution_count": 52,
   "metadata": {},
   "outputs": [],
   "source": [
    "script_one = \"\"\"\n",
    "Googletrans is a free and unlimited python library that implemented Google Translate API. This uses the Google Translate Ajax API to make calls to such methods as detect and translate.\n",
    "\n",
    "Compatible with Python 2.7+ and 3.4+. (Note: Python 2 support will be dropped in the next major release.)\n",
    "\n",
    "For details refer to the API Documentation.\n",
    "\n",
    "Features\n",
    "Fast and reliable - it uses the same servers that translate.google.com uses\n",
    "Auto language detection\n",
    "Bulk translations\n",
    "Customizable service URL\n",
    "Connection pooling (the advantage of using requests.Session)\n",
    "HTTP/2 support\n",
    "\"\"\""
   ]
  },
  {
   "cell_type": "code",
   "execution_count": 53,
   "metadata": {},
   "outputs": [],
   "source": [
    "script_two = \"\"\"\n",
    "Note on library usage\n",
    "DISCLAIMER: this is an unofficial library using the web API of translate.google.com and also is not associated with Google.\n",
    "\n",
    "The maximum character limit on a single text is 15k.\n",
    "Due to limitations of the web version of google translate, this API does not guarantee that the library would work properly at all times (so please use this library if you don’t care about stability).\n",
    "Important: If you want to use a stable API, I highly recommend you to use Google’s official translate API.\n",
    "If you get HTTP 5xx error or errors like #6, it’s probably because Google has banned your client IP address.\n",
    "\"\"\""
   ]
  },
  {
   "cell_type": "code",
   "execution_count": 59,
   "metadata": {},
   "outputs": [
    {
     "name": "stdout",
     "output_type": "stream",
     "text": [
      "\n",
      "Googletrans is a free and unlimited python library that implemented Google Translate API. This uses the Google Translate Ajax API to make calls to such methods as detect and translate.\n",
      "\n",
      "Compatible with Python 2.7+ and 3.4+. (Note: Python 2 support will be dropped in the next major release.)\n",
      "\n",
      "For details refer to the API Documentation.\n",
      "\n",
      "Features\n",
      "Fast and reliable - it uses the same servers that translate.google.com uses\n",
      "Auto language detection\n",
      "Bulk translations\n",
      "Customizable service URL\n",
      "Connection pooling (the advantage of using requests.Session)\n",
      "HTTP/2 support\n",
      "  -----> \n",
      " Googletrans는 Google 번역 API를 구현 한 무제한 무료 Python 라이브러리입니다. 이 기능은 Google Translate Ajax API를 사용하여 감지하고 번역하는 메소드를 호출합니다.\n",
      "\n",
      "Python 2.7+ 및 3.4+와 호환됩니다. (참고 : Python 2 지원은 다음 주요 릴리스에서 삭제 될 예정입니다.)\n",
      "\n",
      "자세한 내용은 API 문서를 참조하십시오.\n",
      "\n",
      "풍모\n",
      "빠르고 신뢰할 수 있습니다. - translate.google.com에서 사용하는 것과 동일한 서버를 사용합니다.\n",
      "자동 언어 감지\n",
      "대량 번역\n",
      "맞춤형 서비스 URL\n",
      "연결 풀링 (requests.Session 사용의 이점)\n",
      "HTTP / 2 지원\n",
      "--------------------------------------------------\n",
      "\n",
      "Note on library usage\n",
      "DISCLAIMER: this is an unofficial library using the web API of translate.google.com and also is not associated with Google.\n",
      "\n",
      "The maximum character limit on a single text is 15k.\n",
      "Due to limitations of the web version of google translate, this API does not guarantee that the library would work properly at all times (so please use this library if you don’t care about stability).\n",
      "Important: If you want to use a stable API, I highly recommend you to use Google’s official translate API.\n",
      "If you get HTTP 5xx error or errors like #6, it’s probably because Google has banned your client IP address.\n",
      "  -----> \n",
      " 라이브러리 사용에 대한 참고 사항\n",
      "면책 조항 : translate.google.com의 웹 API를 사용하는 비공식적 인 라이브러리이며 Google과 연결되어 있지 않습니다.\n",
      "\n",
      "단일 텍스트의 최대 글자 수 제한은 15k입니다.\n",
      "Google 번역 웹 버전의 제한 사항으로 인해이 API는 라이브러리가 항상 올바르게 작동한다는 것을 보장하지 않습니다 (안정성에 신경 쓰지 않는다면이 라이브러리를 사용하십시오).\n",
      "중요 : 안정적인 API를 사용하려면 Google의 공식 번역 API를 사용하는 것이 좋습니다.\n",
      "HTTP 5xx 오류 또는 # 6과 같은 오류가 발생하는 경우 Google에서 클라이언트 IP 주소를 금지했기 때문일 수 있습니다.\n",
      "--------------------------------------------------\n"
     ]
    }
   ],
   "source": [
    "translations = translator.translate([script_one, script_two], dest='ko')\n",
    "\n",
    "for translation in translations:\n",
    "    print(translation.origin, ' -----> \\n', translation.text)\n",
    "    print('-'*50)"
   ]
  },
  {
   "cell_type": "markdown",
   "metadata": {},
   "source": [
    "---\n",
    "\n",
    "### 정리\n",
    "\n",
    "장점\n",
    "1. 코드 단 한줄로 간편하게 번역\n",
    "2. 106개 언어 지원\n",
    "3. 인증 절차 불필요(네이버 파파고는 ID와 비번 요구)\n",
    "4. 무제한 사용 가능\n",
    "5. 빠른 속도\n",
    "6. 부가 기능 제공 : 언어자동감지, 벌크번역 등\n",
    "7. 공짜\n",
    "\n",
    "단점\n",
    "1. 네이버 파파고 대비 다소 거친 번역 품질 : 띄어쓰기 등\n",
    "2. 다량의 문서 번역시 안정성 검증 필요"
   ]
  }
 ],
 "metadata": {
  "kernelspec": {
   "display_name": "Python 3",
   "language": "python",
   "name": "python3"
  },
  "language_info": {
   "codemirror_mode": {
    "name": "ipython",
    "version": 3
   },
   "file_extension": ".py",
   "mimetype": "text/x-python",
   "name": "python",
   "nbconvert_exporter": "python",
   "pygments_lexer": "ipython3",
   "version": "3.6.8"
  }
 },
 "nbformat": 4,
 "nbformat_minor": 2
}
